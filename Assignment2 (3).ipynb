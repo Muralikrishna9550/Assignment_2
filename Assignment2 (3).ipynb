{
  "nbformat": 4,
  "nbformat_minor": 0,
  "metadata": {
    "colab": {
      "provenance": []
    },
    "kernelspec": {
      "name": "python3",
      "display_name": "Python 3"
    },
    "language_info": {
      "name": "python"
    }
  },
  "cells": [
    {
      "cell_type": "code",
      "execution_count": null,
      "metadata": {
        "colab": {
          "base_uri": "https://localhost:8080/"
        },
        "id": "fG_hbECsH2HQ",
        "outputId": "9c66c84c-dbfd-4702-e8d0-42e55e3931ee"
      },
      "outputs": [
        {
          "output_type": "stream",
          "name": "stdout",
          "text": [
            "Enter your first name: Murali\n",
            "Enter your last name: Krishna\n",
            "Full Name: Murali Krishna\n",
            "Every Other Character in Full Name: Mrl rsn\n"
          ]
        }
      ],
      "source": [
        "def completename(first_name, last_name):\n",
        "    return first_name + \" \" + last_name\n",
        "def string_alternative(full_name):\n",
        "    return full_name[::2]\n",
        "def main():\n",
        "    first_name = input(\"Enter your first name: \")\n",
        "    last_name = input(\"Enter your last name: \")\n",
        "    full_name = completename(first_name, last_name)\n",
        "    result = string_alternative(full_name)\n",
        "    print(f\"Full Name: {full_name}\")\n",
        "    print(f\"Every Other Character in Full Name: {result}\")\n",
        "main()\n"
      ]
    },
    {
      "cell_type": "code",
      "execution_count": null,
      "metadata": {
        "colab": {
          "base_uri": "https://localhost:8080/"
        },
        "id": "E2R-ULYlzg8f",
        "outputId": "0cf8340c-29de-439e-d445-79c13499ae86"
      },
      "outputs": [
        {
          "output_type": "stream",
          "name": "stdout",
          "text": [
            "Python course\n",
            "Deep learning course\n",
            "\n",
            "Word_Count:\n",
            "Python: 1\n",
            "course: 2\n",
            "Deep: 1\n",
            "learning: 1\n"
          ]
        }
      ],
      "source": [
        "from collections import Counter\n",
        "import re\n",
        "\n",
        "def count_words_in_line(line):\n",
        "    words = re.findall(r'\\b\\w+\\b', line)\n",
        "    return words\n",
        "\n",
        "def main():\n",
        "    input_file_path = \"/content/input.txt\"\n",
        "    output_file_path = \"/content/output.txt\"\n",
        "\n",
        "    try:\n",
        "        with open(input_file_path, 'r') as input_file:\n",
        "            with open(output_file_path, 'w') as output_file:\n",
        "                original_lines = []\n",
        "                word_count = Counter()\n",
        "\n",
        "                for line_number, line in enumerate(input_file, start=1):\n",
        "                    original_lines.append(line.strip())\n",
        "\n",
        "                    words = count_words_in_line(line)\n",
        "                    word_count.update(words)\n",
        "\n",
        "\n",
        "\n",
        "                for line in original_lines:\n",
        "                    print(line)\n",
        "\n",
        "                print(\"\\nWord_Count:\")\n",
        "                for word, count in word_count.items():\n",
        "                    print(f\"{word}: {count}\")\n",
        "\n",
        "\n",
        "                output_file.write('\\n'.join(original_lines) + '\\n\\nWord_Count:\\n')\n",
        "                for word, count in word_count.items():\n",
        "                    output_file.write(f\"{word}: {count}\\n\")\n",
        "\n",
        "    except FileNotFoundError:\n",
        "        print(f\"Error: File '{input_file_path}' not found.\")\n",
        "\n",
        "if __name__ == \"__main__\":\n",
        "    main()\n"
      ]
    },
    {
      "cell_type": "code",
      "source": [
        "# Using Nested Interactive Loop\n",
        "inches_nested_loop = []\n",
        "while True:\n",
        "    height_inches = input(\"Enter height in inches (or 'done' to finish): \")\n",
        "    if height_inches.lower() == \"done\":\n",
        "        break\n",
        "    inches_nested_loop.append(float(height_inches))\n",
        "\n",
        "\n",
        "centimeters_nested_loop = []\n",
        "for height in inches_nested_loop:\n",
        "\n",
        "    height_cm = height * 2.54\n",
        "    centimeters_nested_loop.append(round(height_cm, 2))\n",
        "\n",
        "# Using List Comprehensions\n",
        "inches_list_comp = [float(input(\"Enter height in inches: \")) for _ in range(len(inches_nested_loop))]\n",
        "\n",
        "\n",
        "centimeters_list_comp = [round(height * 2.54, 2) for height in inches_list_comp]\n",
        "\n",
        "\n",
        "print(\"Input Heights (in inches) - Nested Loop:\", inches_nested_loop)\n",
        "print(\"Heights Converted using Nested Loop:\", centimeters_nested_loop)\n",
        "\n",
        "print(\"\\nInput Heights (in inches) - List Comprehension:\", inches_list_comp)\n",
        "print(\"Heights Converted using List Comprehension:\", centimeters_list_comp)"
      ],
      "metadata": {
        "id": "u9Vbcf87OW8q",
        "colab": {
          "base_uri": "https://localhost:8080/"
        },
        "outputId": "e6b0b52d-4962-478b-b612-ad800b774e28"
      },
      "execution_count": null,
      "outputs": [
        {
          "output_type": "stream",
          "name": "stdout",
          "text": [
            "Enter height in inches (or 'done' to finish): 150\n",
            "Enter height in inches (or 'done' to finish): 155\n",
            "Enter height in inches (or 'done' to finish): 145\n",
            "Enter height in inches (or 'done' to finish): 148\n",
            "Enter height in inches (or 'done' to finish): done\n",
            "Enter height in inches: 150\n",
            "Enter height in inches: 155\n",
            "Enter height in inches: 145\n",
            "Enter height in inches: 148\n",
            "Input Heights (in inches) - Nested Loop: [150.0, 155.0, 145.0, 148.0]\n",
            "Heights Converted using Nested Loop: [381.0, 393.7, 368.3, 375.92]\n",
            "\n",
            "Input Heights (in inches) - List Comprehension: [150.0, 155.0, 145.0, 148.0]\n",
            "Heights Converted using List Comprehension: [381.0, 393.7, 368.3, 375.92]\n"
          ]
        }
      ]
    },
    {
      "cell_type": "code",
      "source": [],
      "metadata": {
        "id": "3y-2LFEhJ3VT"
      },
      "execution_count": null,
      "outputs": []
    }
  ]
}